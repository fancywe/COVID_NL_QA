{
 "cells": [
  {
   "cell_type": "code",
   "execution_count": 71,
   "id": "04dd8109",
   "metadata": {},
   "outputs": [],
   "source": [
    "import numpy as np\n",
    "import pandas as pd\n",
    "import matplotlib.pyplot as plt\n",
    "import re\n",
    "import random\n",
    "import warnings\n",
    "import numpy as np\n",
    "import matplotlib.pyplot as plt\n",
    "warnings.simplefilter(\"ignore\")"
   ]
  },
  {
   "cell_type": "code",
   "execution_count": 95,
   "id": "4595d65a",
   "metadata": {},
   "outputs": [
    {
     "data": {
      "image/png": "[encoded data removed]",
      "text/plain": [
       "<Figure size 576x576 with 1 Axes>"
      ]
     },
     "metadata": {
      "needs_background": "light"
     },
     "output_type": "display_data"
    }
   ],
   "source": [
    "porosity_cutoff = 80\n",
    "highlight_colour = '#d95f02'\n",
    "non_highlight_colour = '#768493'\n",
    "\n",
    "\n",
    "df = pd.DataFrame({'Algorithm':['Logistic Regression', 'Naive Bayes', 'Random Forest','Decision Tree','KNN','XGBoost'], 'Validation Accuracy':[78.95, 60.53, 89.47,85.36,73.68,86.84]})\n",
    "df['colours'] = df['Validation Accuracy'].apply(lambda x: highlight_colour if x >= porosity_cutoff else non_highlight_colour)\n",
    "\n",
    "df=df.sort_values(by='Validation Accuracy')\n",
    "fig,ax = plt.subplots(figsize=(8,8))\n",
    "bars = plt.barh(df['Algorithm'],df['Validation Accuracy'],color=df['colours'])\n",
    "\n",
    "ax.spines[['right', 'top', 'bottom']].set_visible(False) \n",
    "ax.xaxis.set_visible(False)\n",
    "ax.yaxis.set_tick_params(labelsize=14)\n",
    "\n",
    "ax.bar_label(bars, padding=-45, color='white', \n",
    "             fontsize=12, label_type='edge', fmt='%.1f%%',\n",
    "            fontweight='bold')\n",
    "ax.set_title('Comparison of different algorithms', fontsize=16,\n",
    "              fontweight='bold', pad=20)\n",
    "plt.show()\n",
    "# ax = df.plot(x='Algorithm',kind=\"barh\", y='Validation Accuracy', rot=0,title='Comparison of different algorithms',xlabel='Algorithm',ylabel='Validation Accuracy')\n"
   ]
  },
  {
   "cell_type": "code",
   "execution_count": 89,
   "id": "6c27cfda",
   "metadata": {},
   "outputs": [
    {
     "data": {
      "text/html": [
       "<div>\n",
       "<style scoped>\n",
       "    .dataframe tbody tr th:only-of-type {\n",
       "        vertical-align: middle;\n",
       "    }\n",
       "\n",
       "    .dataframe tbody tr th {\n",
       "        vertical-align: top;\n",
       "    }\n",
       "\n",
       "    .dataframe thead th {\n",
       "        text-align: right;\n",
       "    }\n",
       "</style>\n",
       "<table border=\"1\" class=\"dataframe\">\n",
       "  <thead>\n",
       "    <tr style=\"text-align: right;\">\n",
       "      <th></th>\n",
       "      <th>Algorithm</th>\n",
       "      <th>Validation Accuracy</th>\n",
       "    </tr>\n",
       "  </thead>\n",
       "  <tbody>\n",
       "    <tr>\n",
       "      <th>1</th>\n",
       "      <td>Naive Bayes</td>\n",
       "      <td>60.53</td>\n",
       "    </tr>\n",
       "    <tr>\n",
       "      <th>4</th>\n",
       "      <td>KNN</td>\n",
       "      <td>73.68</td>\n",
       "    </tr>\n",
       "    <tr>\n",
       "      <th>0</th>\n",
       "      <td>Logistic Regression</td>\n",
       "      <td>78.95</td>\n",
       "    </tr>\n",
       "    <tr>\n",
       "      <th>3</th>\n",
       "      <td>Decision Tree</td>\n",
       "      <td>85.36</td>\n",
       "    </tr>\n",
       "    <tr>\n",
       "      <th>5</th>\n",
       "      <td>XGBoost</td>\n",
       "      <td>86.84</td>\n",
       "    </tr>\n",
       "    <tr>\n",
       "      <th>2</th>\n",
       "      <td>Random Forest</td>\n",
       "      <td>89.47</td>\n",
       "    </tr>\n",
       "  </tbody>\n",
       "</table>\n",
       "</div>"
      ],
      "text/plain": [
       "             Algorithm  Validation Accuracy\n",
       "1          Naive Bayes                60.53\n",
       "4                  KNN                73.68\n",
       "0  Logistic Regression                78.95\n",
       "3        Decision Tree                85.36\n",
       "5              XGBoost                86.84\n",
       "2        Random Forest                89.47"
      ]
     },
     "execution_count": 89,
     "metadata": {},
     "output_type": "execute_result"
    }
   ],
   "source": [
    "df"
   ]
  },
  {
   "cell_type": "code",
   "execution_count": 3,
   "id": "a7458f39",
   "metadata": {},
   "outputs": [],
   "source": [
    "from sklearn.feature_extraction.text import TfidfVectorizer\n",
    "from sklearn.naive_bayes import MultinomialNB\n",
    "from sklearn.linear_model import LogisticRegression\n",
    "from sklearn.neighbors import KNeighborsClassifier\n",
    "from sklearn.ensemble import RandomForestClassifier\n",
    "from sklearn.tree import DecisionTreeClassifier\n",
    "from xgboost import XGBClassifier\n",
    "from sklearn.metrics import roc_auc_score, confusion_matrix, plot_confusion_matrix, plot_precision_recall_curve"
   ]
  },
  {
   "cell_type": "code",
   "execution_count": 3,
   "id": "4099f6d9",
   "metadata": {},
   "outputs": [
    {
     "name": "stdout",
     "output_type": "stream",
     "text": [
      "Collecting xgboost==0.90\n",
      "  Downloading xgboost-0.90-py2.py3-none-win_amd64.whl (18.3 MB)\n",
      "Requirement already satisfied: scipy in e:\\anaconda\\lib\\site-packages (from xgboost==0.90) (1.7.1)\n",
      "Requirement already satisfied: numpy in e:\\anaconda\\lib\\site-packages (from xgboost==0.90) (1.21.1)\n",
      "Installing collected packages: xgboost\n",
      "  Attempting uninstall: xgboost\n",
      "    Found existing installation: xgboost 1.7.3\n",
      "    Uninstalling xgboost-1.7.3:\n",
      "      Successfully uninstalled xgboost-1.7.3\n",
      "Note: you may need to restart the kernel to use updated packages.\n"
     ]
    },
    {
     "name": "stderr",
     "output_type": "stream",
     "text": [
      "ERROR: Could not install packages due to an OSError: [WinError 5] 拒绝访问。: 'E:\\\\anaconda\\\\Lib\\\\site-packages\\\\~gboost\\\\lib\\\\xgboost.dll'\n",
      "Consider using the `--user` option or check the permissions.\n",
      "\n"
     ]
    }
   ],
   "source": [
    "pip install xgboost==0.90"
   ]
  },
  {
   "cell_type": "code",
   "execution_count": null,
   "id": "ba8edc4d",
   "metadata": {},
   "outputs": [],
   "source": []
  },
  {
   "cell_type": "code",
   "execution_count": 28,
   "id": "95bfa191",
   "metadata": {},
   "outputs": [],
   "source": [
    "data = pd.read_csv('new_training set.csv')"
   ]
  },
  {
   "cell_type": "code",
   "execution_count": 29,
   "id": "75f4f036",
   "metadata": {},
   "outputs": [
    {
     "data": {
      "text/html": [
       "<div>\n",
       "<style scoped>\n",
       "    .dataframe tbody tr th:only-of-type {\n",
       "        vertical-align: middle;\n",
       "    }\n",
       "\n",
       "    .dataframe tbody tr th {\n",
       "        vertical-align: top;\n",
       "    }\n",
       "\n",
       "    .dataframe thead th {\n",
       "        text-align: right;\n",
       "    }\n",
       "</style>\n",
       "<table border=\"1\" class=\"dataframe\">\n",
       "  <thead>\n",
       "    <tr style=\"text-align: right;\">\n",
       "      <th></th>\n",
       "      <th>Question</th>\n",
       "      <th>Type</th>\n",
       "    </tr>\n",
       "  </thead>\n",
       "  <tbody>\n",
       "    <tr>\n",
       "      <th>0</th>\n",
       "      <td>Ask for whole US info</td>\n",
       "      <td>0</td>\n",
       "    </tr>\n",
       "    <tr>\n",
       "      <th>1</th>\n",
       "      <td>Ask for State info</td>\n",
       "      <td>1</td>\n",
       "    </tr>\n",
       "    <tr>\n",
       "      <th>2</th>\n",
       "      <td>Ask for State case info</td>\n",
       "      <td>2</td>\n",
       "    </tr>\n",
       "    <tr>\n",
       "      <th>3</th>\n",
       "      <td>Ask for State death info</td>\n",
       "      <td>3</td>\n",
       "    </tr>\n",
       "    <tr>\n",
       "      <th>4</th>\n",
       "      <td>Ask for State test info</td>\n",
       "      <td>4</td>\n",
       "    </tr>\n",
       "    <tr>\n",
       "      <th>...</th>\n",
       "      <td>...</td>\n",
       "      <td>...</td>\n",
       "    </tr>\n",
       "    <tr>\n",
       "      <th>377</th>\n",
       "      <td>How many COVID cases in Los Angeles county Cal...</td>\n",
       "      <td>11</td>\n",
       "    </tr>\n",
       "    <tr>\n",
       "      <th>378</th>\n",
       "      <td>Tell me about the death toll in Clark county N...</td>\n",
       "      <td>12</td>\n",
       "    </tr>\n",
       "    <tr>\n",
       "      <th>379</th>\n",
       "      <td>What is the testing situation in Maricopa coun...</td>\n",
       "      <td>13</td>\n",
       "    </tr>\n",
       "    <tr>\n",
       "      <th>380</th>\n",
       "      <td>How many people are hospitalized in King count...</td>\n",
       "      <td>14</td>\n",
       "    </tr>\n",
       "    <tr>\n",
       "      <th>381</th>\n",
       "      <td>What is the vaccination rate in Cook county Il...</td>\n",
       "      <td>15</td>\n",
       "    </tr>\n",
       "  </tbody>\n",
       "</table>\n",
       "<p>382 rows × 2 columns</p>\n",
       "</div>"
      ],
      "text/plain": [
       "                                              Question  Type\n",
       "0                                Ask for whole US info     0\n",
       "1                                   Ask for State info     1\n",
       "2                              Ask for State case info     2\n",
       "3                             Ask for State death info     3\n",
       "4                              Ask for State test info     4\n",
       "..                                                 ...   ...\n",
       "377  How many COVID cases in Los Angeles county Cal...    11\n",
       "378  Tell me about the death toll in Clark county N...    12\n",
       "379  What is the testing situation in Maricopa coun...    13\n",
       "380  How many people are hospitalized in King count...    14\n",
       "381  What is the vaccination rate in Cook county Il...    15\n",
       "\n",
       "[382 rows x 2 columns]"
      ]
     },
     "execution_count": 29,
     "metadata": {},
     "output_type": "execute_result"
    }
   ],
   "source": [
    "data"
   ]
  },
  {
   "cell_type": "code",
   "execution_count": 40,
   "id": "51ad391e",
   "metadata": {},
   "outputs": [
    {
     "name": "stdout",
     "output_type": "stream",
     "text": [
      "Training Data Shape: (344,)\n",
      "Validation Data Shape: (38,)\n"
     ]
    }
   ],
   "source": [
    "split_pcent = 0.1\n",
    "split = int(split_pcent * len(data))\n",
    "\n",
    "# Shuffles dataframe\n",
    "data = data.sample(frac=1).reset_index(drop=True)\n",
    "\n",
    "# Training Sets\n",
    "train = data[split:]\n",
    "trainX = train['Question']\n",
    "trainY = train['Type'].values\n",
    "\n",
    "valid = data[:split]\n",
    "validX = valid['Question']\n",
    "validY = valid['Type'].values\n",
    "\n",
    "assert trainX.shape == trainY.shape\n",
    "assert validX.shape == validY.shape\n",
    "\n",
    "print(f\"Training Data Shape: {trainX.shape}\\nValidation Data Shape: {validX.shape}\")"
   ]
  },
  {
   "cell_type": "code",
   "execution_count": 89,
   "id": "b72146fc",
   "metadata": {},
   "outputs": [
    {
     "ename": "SyntaxError",
     "evalue": "invalid syntax (Temp/ipykernel_7212/177363613.py, line 5)",
     "output_type": "error",
     "traceback": [
      "\u001b[1;36m  File \u001b[1;32m\"C:\\Users\\LIAMMO~1\\AppData\\Local\\Temp/ipykernel_7212/177363613.py\"\u001b[1;36m, line \u001b[1;32m5\u001b[0m\n\u001b[1;33m    df = pd.DataFrame(first_vector_tfidfvectorizer.T.todense(), index=tfidf_vectorizer.get_feature_names(), columns=[\"tfidf\"]) df.sort_values(by=[\"tfidf\"],ascending=False)\u001b[0m\n\u001b[1;37m                                                                                                                               ^\u001b[0m\n\u001b[1;31mSyntaxError\u001b[0m\u001b[1;31m:\u001b[0m invalid syntax\n"
     ]
    }
   ],
   "source": [
    "# get the first vector out (for the first document) \n",
    "first_vector_tfidfvectorizer=vectorizer[0] \n",
    "\n",
    "# place tf-idf values in a pandas data frame \n",
    "df = pd.DataFrame(first_vector_tfidfvectorizer.T.todense(), index=tfidf_vectorizer.get_feature_names(), columns=[\"tfidf\"]) df.sort_values(by=[\"tfidf\"],ascending=False)"
   ]
  },
  {
   "cell_type": "code",
   "execution_count": 41,
   "id": "dcccbcd5",
   "metadata": {},
   "outputs": [],
   "source": [
    "vectorizer = TfidfVectorizer()\n",
    "\n",
    "trainX = vectorizer.fit_transform(trainX)\n",
    "validX = vectorizer.transform(validX)\n"
   ]
  },
  {
   "cell_type": "code",
   "execution_count": 42,
   "id": "08a302f4",
   "metadata": {},
   "outputs": [
    {
     "data": {
      "text/plain": [
       "LogisticRegression()"
      ]
     },
     "execution_count": 42,
     "metadata": {},
     "output_type": "execute_result"
    }
   ],
   "source": [
    "lr_classifier = LogisticRegression(C=1.)\n",
    "lr_classifier.fit(trainX, trainY)"
   ]
  },
  {
   "cell_type": "code",
   "execution_count": 43,
   "id": "a6214c24",
   "metadata": {},
   "outputs": [
    {
     "name": "stdout",
     "output_type": "stream",
     "text": [
      "Validation Accuracy of Logsitic Regression Classifier is: 78.95%\n"
     ]
    }
   ],
   "source": [
    "print(f\"Validation Accuracy of Logsitic Regression Classifier is: {(lr_classifier.score(validX, validY))*100:.2f}%\")"
   ]
  },
  {
   "cell_type": "code",
   "execution_count": 10,
   "id": "96c23eba",
   "metadata": {},
   "outputs": [],
   "source": [
    "def plot_metric(clf, testX, testY, name):\n",
    "    \"\"\"\n",
    "    Small function to plot ROC-AUC values and confusion matrix\n",
    "    \"\"\"\n",
    "    styles = ['bmh', 'classic', 'fivethirtyeight', 'ggplot']\n",
    "\n",
    "    plt.style.use(random.choice(styles))\n",
    "    plot_confusion_matrix(clf, testX, testY)\n",
    "    plt.title(f\"Confusion Matrix [{name}]\")"
   ]
  },
  {
   "cell_type": "code",
   "execution_count": 11,
   "id": "c1e14d6d",
   "metadata": {},
   "outputs": [
    {
     "data": {
      "image/png": "[encoded data removed]",
      "text/plain": [
       "<Figure size 432x288 with 2 Axes>"
      ]
     },
     "metadata": {
      "needs_background": "light"
     },
     "output_type": "display_data"
    }
   ],
   "source": [
    "plot_metric(lr_classifier, validX, validY, \"Logistic Regression\")"
   ]
  },
  {
   "cell_type": "code",
   "execution_count": 44,
   "id": "c44904ff",
   "metadata": {},
   "outputs": [
    {
     "name": "stdout",
     "output_type": "stream",
     "text": [
      "Validation Accuracy of Naive Bayes Classifier is: 60.53%\n"
     ]
    }
   ],
   "source": [
    "nb_classifier = MultinomialNB()\n",
    "nb_classifier.fit(trainX, trainY)\n",
    "# Print the accuracy score of the classifier\n",
    "print(f\"Validation Accuracy of Naive Bayes Classifier is: {(nb_classifier.score(validX, validY))*100:.2f}%\")"
   ]
  },
  {
   "cell_type": "code",
   "execution_count": 45,
   "id": "bdc5975f",
   "metadata": {},
   "outputs": [
    {
     "name": "stdout",
     "output_type": "stream",
     "text": [
      "Validation Accuracy of Random Forest Classifier is: 89.47%\n"
     ]
    }
   ],
   "source": [
    "# Define and fit the classifier on the data\n",
    "rf_classifier = RandomForestClassifier()\n",
    "rf_classifier.fit(trainX, trainY)\n",
    "# Print the accuracy score of the classifier\n",
    "print(f\"Validation Accuracy of Random Forest Classifier is: {(rf_classifier.score(validX, validY))*100:.2f}%\")"
   ]
  },
  {
   "cell_type": "code",
   "execution_count": 46,
   "id": "c4edbb1e",
   "metadata": {},
   "outputs": [
    {
     "name": "stdout",
     "output_type": "stream",
     "text": [
      "Validation Accuracy of Decision Tree Clf. is: 89.47%\n"
     ]
    }
   ],
   "source": [
    "# Define and fit the classifier on the data\n",
    "dt_classifier = DecisionTreeClassifier()\n",
    "dt_classifier.fit(trainX, trainY)\n",
    "# Print the accuracy score of the classifier\n",
    "print(f\"Validation Accuracy of Decision Tree Clf. is: {(dt_classifier.score(validX, validY))*100:.2f}%\")"
   ]
  },
  {
   "cell_type": "code",
   "execution_count": 47,
   "id": "e498b516",
   "metadata": {},
   "outputs": [
    {
     "name": "stdout",
     "output_type": "stream",
     "text": [
      "Validation Accuracy of KNN Clf. is: 73.68%\n"
     ]
    }
   ],
   "source": [
    "# Define and fit the classifier on the data\n",
    "kn_classifier = KNeighborsClassifier()\n",
    "kn_classifier.fit(trainX, trainY)\n",
    "print(f\"Validation Accuracy of KNN Clf. is: {(kn_classifier.score(validX, validY))*100:.2f}%\")"
   ]
  },
  {
   "cell_type": "code",
   "execution_count": 48,
   "id": "4d7148b0",
   "metadata": {},
   "outputs": [
    {
     "name": "stdout",
     "output_type": "stream",
     "text": [
      "Validation Accuracy of XGBoost Clf. is: 86.84%\n"
     ]
    }
   ],
   "source": [
    "# Define and fit the classifier on the data\n",
    "xg_classifier = XGBClassifier()\n",
    "xg_classifier.fit(trainX, trainY)\n",
    "# Print the accuracy score of the classifier\n",
    "print(f\"Validation Accuracy of XGBoost Clf. is: {(xg_classifier.score(validX, validY))*100:.2f}%\")"
   ]
  }
 ],
 "metadata": {
  "kernelspec": {
   "display_name": "Python 3 (ipykernel)",
   "language": "python",
   "name": "python3"
  },
  "language_info": {
   "codemirror_mode": {
    "name": "ipython",
    "version": 3
   },
   "file_extension": ".py",
   "mimetype": "text/x-python",
   "name": "python",
   "nbconvert_exporter": "python",
   "pygments_lexer": "ipython3",
   "version": "3.9.7"
  },
  "vscode": {
   "interpreter": {
    "hash": "c392f7928050cbb677f220031b6a78ae962335dbaa73d3a5c7913f0098d21f48"
   }
  }
 },
 "nbformat": 4,
 "nbformat_minor": 5
}
