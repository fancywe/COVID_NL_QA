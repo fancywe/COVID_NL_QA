{
 "cells": [
  {
   "cell_type": "code",
   "execution_count": 1,
   "id": "c224826b",
   "metadata": {},
   "outputs": [],
   "source": [
    "\n",
    "import pandas as pd \n",
    "from haystack.document_stores import ElasticsearchDocumentStore"
   ]
  },
  {
   "cell_type": "code",
   "execution_count": 6,
   "id": "43cb514f",
   "metadata": {},
   "outputs": [
    {
     "name": "stdout",
     "output_type": "stream",
     "text": [
      "Collecting farm-haystack\n",
      "  Downloading farm_haystack-1.18.1-py3-none-any.whl (737 kB)\n",
      "Collecting rank-bm25\n",
      "  Downloading rank_bm25-0.2.2-py3-none-any.whl (8.6 kB)\n",
      "Requirement already satisfied: requests in e:\\anaconda\\lib\\site-packages (from farm-haystack) (2.26.0)\n",
      "Collecting lazy-imports==0.3.1\n",
      "Note: you may need to restart the kernel to use updated packages.  Downloading lazy_imports-0.3.1-py3-none-any.whl (12 kB)\n",
      "Collecting pydantic<2\n",
      "  Downloading pydantic-1.10.11-cp39-cp39-win_amd64.whl (2.2 MB)\n",
      "Collecting boilerpy3\n",
      "\n"
     ]
    },
    {
     "name": "stderr",
     "output_type": "stream",
     "text": [
      "ERROR: pip's dependency resolver does not currently take into account all the packages that are installed. This behaviour is the source of the following dependency conflicts.\n",
      "conda-repo-cli 1.0.4 requires pathlib, which is not installed.\n",
      "anaconda-project 0.10.1 requires ruamel-yaml, which is not installed.\n"
     ]
    },
    {
     "name": "stdout",
     "output_type": "stream",
     "text": [
      "  Downloading boilerpy3-1.0.6-py3-none-any.whl (22 kB)\n",
      "Requirement already satisfied: networkx in e:\\anaconda\\lib\\site-packages (from farm-haystack) (2.6.3)\n",
      "Collecting requests-cache<1.0.0\n",
      "  Downloading requests_cache-0.9.8-py3-none-any.whl (48 kB)\n",
      "Requirement already satisfied: tqdm in e:\\anaconda\\lib\\site-packages (from farm-haystack) (4.62.0)\n",
      "Collecting platformdirs\n",
      "  Downloading platformdirs-3.9.1-py3-none-any.whl (16 kB)\n",
      "Collecting quantulum3\n",
      "  Downloading quantulum3-0.9.0-py3-none-any.whl (10.7 MB)\n",
      "Requirement already satisfied: pillow in e:\\anaconda\\lib\\site-packages (from farm-haystack) (8.4.0)\n",
      "Collecting tiktoken>=0.3.2\n",
      "  Downloading tiktoken-0.4.0-cp39-cp39-win_amd64.whl (635 kB)\n",
      "Requirement already satisfied: tenacity in e:\\anaconda\\lib\\site-packages (from farm-haystack) (8.0.1)\n",
      "Collecting posthog\n",
      "  Downloading posthog-3.0.1-py2.py3-none-any.whl (37 kB)\n",
      "Requirement already satisfied: more-itertools in e:\\anaconda\\lib\\site-packages (from farm-haystack) (8.10.0)\n",
      "Collecting events\n",
      "  Downloading Events-0.4.tar.gz (5.6 kB)\n",
      "Requirement already satisfied: jsonschema in e:\\anaconda\\lib\\site-packages (from farm-haystack) (3.2.0)\n",
      "Collecting transformers==4.30.1\n",
      "  Downloading transformers-4.30.1-py3-none-any.whl (7.2 MB)\n",
      "Requirement already satisfied: pandas in e:\\anaconda\\lib\\site-packages (from farm-haystack) (1.3.1)\n",
      "Collecting canals==0.2.2\n",
      "  Downloading canals-0.2.2-py3-none-any.whl (31 kB)\n",
      "Collecting prompthub-py==4.0.0\n",
      "  Downloading prompthub_py-4.0.0-py3-none-any.whl (6.9 kB)\n",
      "Collecting sseclient-py\n",
      "  Downloading sseclient_py-1.7.2-py2.py3-none-any.whl (8.4 kB)\n",
      "Collecting scikit-learn>=1.0.0\n",
      "  Downloading scikit_learn-1.3.0-cp39-cp39-win_amd64.whl (9.3 MB)\n",
      "Requirement already satisfied: pyyaml<7.0,>=6.0 in e:\\anaconda\\lib\\site-packages (from prompthub-py==4.0.0->farm-haystack) (6.0)\n",
      "Collecting requests\n",
      "  Downloading requests-2.31.0-py3-none-any.whl (62 kB)\n",
      "Collecting safetensors>=0.3.1\n",
      "  Downloading safetensors-0.3.1-cp39-cp39-win_amd64.whl (263 kB)\n",
      "Collecting tokenizers!=0.11.3,<0.14,>=0.11.1\n",
      "  Downloading tokenizers-0.13.3-cp39-cp39-win_amd64.whl (3.5 MB)\n",
      "Requirement already satisfied: regex!=2019.12.17 in e:\\anaconda\\lib\\site-packages (from transformers==4.30.1->farm-haystack) (2021.8.3)\n",
      "Requirement already satisfied: filelock in e:\\anaconda\\lib\\site-packages (from transformers==4.30.1->farm-haystack) (3.3.1)\n",
      "Requirement already satisfied: packaging>=20.0 in e:\\anaconda\\lib\\site-packages (from transformers==4.30.1->farm-haystack) (21.0)\n",
      "Collecting huggingface-hub<1.0,>=0.14.1\n",
      "  Downloading huggingface_hub-0.16.4-py3-none-any.whl (268 kB)\n",
      "Requirement already satisfied: numpy>=1.17 in e:\\anaconda\\lib\\site-packages (from transformers==4.30.1->farm-haystack) (1.21.1)\n",
      "Requirement already satisfied: typing-extensions>=3.7.4.3 in e:\\anaconda\\lib\\site-packages (from huggingface-hub<1.0,>=0.14.1->transformers==4.30.1->farm-haystack) (3.10.0.2)\n",
      "Requirement already satisfied: fsspec in e:\\anaconda\\lib\\site-packages (from huggingface-hub<1.0,>=0.14.1->transformers==4.30.1->farm-haystack) (2021.10.1)\n",
      "Requirement already satisfied: pyparsing>=2.0.2 in e:\\anaconda\\lib\\site-packages (from packaging>=20.0->transformers==4.30.1->farm-haystack) (3.0.4)\n",
      "Collecting typing-extensions>=3.7.4.3\n",
      "  Downloading typing_extensions-4.7.1-py3-none-any.whl (33 kB)\n",
      "Requirement already satisfied: idna<4,>=2.5 in e:\\anaconda\\lib\\site-packages (from requests->farm-haystack) (3.2)\n",
      "Requirement already satisfied: charset-normalizer<4,>=2 in e:\\anaconda\\lib\\site-packages (from requests->farm-haystack) (2.0.4)\n",
      "Requirement already satisfied: urllib3<3,>=1.21.1 in e:\\anaconda\\lib\\site-packages (from requests->farm-haystack) (1.26.7)\n",
      "Requirement already satisfied: certifi>=2017.4.17 in e:\\anaconda\\lib\\site-packages (from requests->farm-haystack) (2021.10.8)\n",
      "Collecting cattrs>=22.2\n",
      "  Downloading cattrs-23.1.2-py3-none-any.whl (50 kB)\n",
      "Collecting url-normalize>=1.4\n",
      "  Downloading url_normalize-1.4.3-py2.py3-none-any.whl (6.8 kB)\n",
      "Requirement already satisfied: attrs>=21.2 in e:\\anaconda\\lib\\site-packages (from requests-cache<1.0.0->farm-haystack) (21.2.0)\n",
      "Requirement already satisfied: appdirs>=1.4.4 in e:\\anaconda\\lib\\site-packages (from requests-cache<1.0.0->farm-haystack) (1.4.4)\n",
      "Collecting exceptiongroup\n",
      "  Downloading exceptiongroup-1.1.2-py3-none-any.whl (14 kB)\n",
      "Collecting joblib>=1.1.1\n",
      "  Downloading joblib-1.3.1-py3-none-any.whl (301 kB)\n",
      "Requirement already satisfied: scipy>=1.5.0 in e:\\anaconda\\lib\\site-packages (from scikit-learn>=1.0.0->farm-haystack) (1.7.1)\n",
      "Requirement already satisfied: threadpoolctl>=2.0.0 in e:\\anaconda\\lib\\site-packages (from scikit-learn>=1.0.0->farm-haystack) (2.2.0)\n",
      "Collecting regex!=2019.12.17\n",
      "  Downloading regex-2023.6.3-cp39-cp39-win_amd64.whl (268 kB)\n",
      "Requirement already satisfied: colorama in e:\\anaconda\\lib\\site-packages (from tqdm->farm-haystack) (0.4.4)\n",
      "Requirement already satisfied: six in e:\\anaconda\\lib\\site-packages (from url-normalize>=1.4->requests-cache<1.0.0->farm-haystack) (1.16.0)\n",
      "Requirement already satisfied: setuptools in e:\\anaconda\\lib\\site-packages (from jsonschema->farm-haystack) (58.0.4)\n",
      "Requirement already satisfied: pyrsistent>=0.14.0 in e:\\anaconda\\lib\\site-packages (from jsonschema->farm-haystack) (0.18.0)\n",
      "Requirement already satisfied: python-dateutil>=2.7.3 in e:\\anaconda\\lib\\site-packages (from pandas->farm-haystack) (2.8.2)\n",
      "Requirement already satisfied: pytz>=2017.3 in e:\\anaconda\\lib\\site-packages (from pandas->farm-haystack) (2021.3)\n",
      "Collecting monotonic>=1.5\n",
      "  Downloading monotonic-1.6-py2.py3-none-any.whl (8.2 kB)\n",
      "Collecting backoff>=1.10.0\n",
      "  Downloading backoff-2.2.1-py3-none-any.whl (15 kB)\n",
      "Collecting inflect\n",
      "  Downloading inflect-7.0.0-py3-none-any.whl (34 kB)\n",
      "Collecting num2words\n",
      "  Downloading num2words-0.5.12-py3-none-any.whl (125 kB)\n",
      "Collecting docopt>=0.6.2\n",
      "  Downloading docopt-0.6.2.tar.gz (25 kB)\n",
      "Building wheels for collected packages: events, docopt\n",
      "  Building wheel for events (setup.py): started\n",
      "  Building wheel for events (setup.py): finished with status 'done'\n",
      "  Created wheel for events: filename=Events-0.4-py3-none-any.whl size=6274 sha256=8f9946a022ebdccf087acd4335ef8b3e056ee509105bfb3cdae3f76fe6acb74f\n",
      "  Stored in directory: c:\\users\\liam morrison\\appdata\\local\\pip\\cache\\wheels\\63\\79\\b9\\9470724b5fdb7efc3171a0f97f98469e898ceb8f5ae28e89b1\n",
      "  Building wheel for docopt (setup.py): started\n",
      "  Building wheel for docopt (setup.py): finished with status 'done'\n",
      "  Created wheel for docopt: filename=docopt-0.6.2-py2.py3-none-any.whl size=13724 sha256=afe49670720fc21749a8cf557288845fb9785586d29dadcbe19b02b7c13fb5fe\n",
      "  Stored in directory: c:\\users\\liam morrison\\appdata\\local\\pip\\cache\\wheels\\70\\4a\\46\\1309fc853b8d395e60bafaf1b6df7845bdd82c95fd59dd8d2b\n",
      "Successfully built events docopt\n",
      "Installing collected packages: typing-extensions, requests, pydantic, exceptiongroup, docopt, url-normalize, tokenizers, safetensors, regex, num2words, monotonic, joblib, inflect, huggingface-hub, cattrs, backoff, transformers, tiktoken, sseclient-py, scikit-learn, requests-cache, rank-bm25, quantulum3, prompthub-py, posthog, platformdirs, lazy-imports, events, canals, boilerpy3, farm-haystack\n",
      "  Attempting uninstall: typing-extensions\n",
      "    Found existing installation: typing-extensions 3.10.0.2\n",
      "    Uninstalling typing-extensions-3.10.0.2:\n",
      "      Successfully uninstalled typing-extensions-3.10.0.2\n",
      "  Attempting uninstall: requests\n",
      "    Found existing installation: requests 2.26.0\n",
      "    Uninstalling requests-2.26.0:\n",
      "      Successfully uninstalled requests-2.26.0\n",
      "  Attempting uninstall: regex\n",
      "    Found existing installation: regex 2021.8.3\n",
      "    Uninstalling regex-2021.8.3:\n",
      "      Successfully uninstalled regex-2021.8.3\n",
      "  Attempting uninstall: joblib\n",
      "    Found existing installation: joblib 1.1.0\n",
      "    Uninstalling joblib-1.1.0:\n",
      "      Successfully uninstalled joblib-1.1.0\n",
      "  Attempting uninstall: scikit-learn\n",
      "    Found existing installation: scikit-learn 0.24.2\n",
      "    Uninstalling scikit-learn-0.24.2:\n",
      "      Successfully uninstalled scikit-learn-0.24.2\n",
      "Successfully installed backoff-2.2.1 boilerpy3-1.0.6 canals-0.2.2 cattrs-23.1.2 docopt-0.6.2 events-0.4 exceptiongroup-1.1.2 farm-haystack-1.18.1 huggingface-hub-0.16.4 inflect-7.0.0 joblib-1.3.1 lazy-imports-0.3.1 monotonic-1.6 num2words-0.5.12 platformdirs-3.9.1 posthog-3.0.1 prompthub-py-4.0.0 pydantic-1.10.11 quantulum3-0.9.0 rank-bm25-0.2.2 regex-2023.6.3 requests-2.31.0 requests-cache-0.9.8 safetensors-0.3.1 scikit-learn-1.3.0 sseclient-py-1.7.2 tiktoken-0.4.0 tokenizers-0.13.3 transformers-4.30.1 typing-extensions-4.7.1 url-normalize-1.4.3\n"
     ]
    }
   ],
   "source": [
    "pip install farm-haystack"
   ]
  },
  {
   "cell_type": "code",
   "execution_count": 2,
   "id": "3e579d65",
   "metadata": {},
   "outputs": [],
   "source": [
    "from haystack.document_stores import ElasticsearchDocumentStore"
   ]
  },
  {
   "cell_type": "code",
   "execution_count": 9,
   "id": "077c7030",
   "metadata": {},
   "outputs": [
    {
     "name": "stdout",
     "output_type": "stream",
     "text": [
      "Collecting torch\n",
      "  Downloading torch-2.0.1-cp39-cp39-win_amd64.whl (172.4 MB)\n",
      "Requirement already satisfied: networkx in e:\\anaconda\\lib\\site-packages (from torch) (2.6.3)\n",
      "Requirement already satisfied: jinja2 in e:\\anaconda\\lib\\site-packages (from torch) (2.11.3)\n",
      "Requirement already satisfied: typing-extensions in e:\\anaconda\\lib\\site-packages (from torch) (4.7.1)\n",
      "Requirement already satisfied: filelock in e:\\anaconda\\lib\\site-packages (from torch) (3.3.1)\n",
      "Requirement already satisfied: sympy in e:\\anaconda\\lib\\site-packages (from torch) (1.9)\n",
      "Requirement already satisfied: MarkupSafe>=0.23 in e:\\anaconda\\lib\\site-packages (from jinja2->torch) (1.1.1)\n",
      "Requirement already satisfied: mpmath>=0.19 in e:\\anaconda\\lib\\site-packages (from sympy->torch) (1.2.1)\n",
      "Installing collected packages: torch\n",
      "Successfully installed torch-2.0.1\n",
      "Note: you may need to restart the kernel to use updated packages.\n"
     ]
    }
   ],
   "source": [
    "pip install torch"
   ]
  },
  {
   "cell_type": "code",
   "execution_count": null,
   "id": "f358bbd1",
   "metadata": {},
   "outputs": [],
   "source": []
  },
  {
   "cell_type": "code",
   "execution_count": 4,
   "id": "54312752",
   "metadata": {},
   "outputs": [
    {
     "name": "stdout",
     "output_type": "stream",
     "text": [
      "Collecting elasticsearch==7.13.4\n",
      "  Using cached elasticsearch-7.13.4-py2.py3-none-any.whl (356 kB)\n",
      "Requirement already satisfied: certifi in e:\\anaconda\\lib\\site-packages (from elasticsearch==7.13.4) (2021.10.8)\n",
      "Requirement already satisfied: urllib3<2,>=1.21.1 in e:\\anaconda\\lib\\site-packages (from elasticsearch==7.13.4) (1.26.7)\n",
      "Installing collected packages: elasticsearch\n",
      "  Attempting uninstall: elasticsearch\n",
      "    Found existing installation: elasticsearch 8.8.2\n",
      "    Uninstalling elasticsearch-8.8.2:\n",
      "      Successfully uninstalled elasticsearch-8.8.2\n",
      "Successfully installed elasticsearch-7.13.4\n",
      "Note: you may need to restart the kernel to use updated packages.\n"
     ]
    }
   ],
   "source": [
    "pip install elasticsearch==7.13.4"
   ]
  },
  {
   "cell_type": "code",
   "execution_count": null,
   "id": "25f8e238",
   "metadata": {},
   "outputs": [],
   "source": [
    "# Username=\"weweztms\"\n",
    "# Password=\"?/xij7n#bk4HeS?\"\n",
    "# Port=9200\n",
    "\n",
    "# # Create an instance of ElasticsearchDocumentStore\n",
    "# # 'host' is set to localhost, 'username' and 'password' are defined\n",
    "# document = ElasticsearchDocumentStore(host=\"localhost\", username='', password='', index=\"document\")\n",
    "\n",
    "# Read the source data file into a DataFrame\n",
    "df = pd.read_csv('out.csv')\n",
    "\n",
    "# Convert the DataFrame into a list of dictionaries\n",
    "dict = df.to_dict('records')\n",
    "\n",
    "# Initialize an empty list to hold the restructured dictionaries\n",
    "new_dict = []\n",
    "\n",
    "# Iterate over each dictionary in the list\n",
    "final_dicts = []\n",
    "for each in dicts:\n",
    "    tmp = {}\n",
    "    tmp['text'] = each.pop('body_text')\n",
    "    tmp['meta'] = each\n",
    "    final_dicts.append(tmp)\n",
    "\n",
    "document_store.write_documents(final_dicts)"
   ]
  }
 ],
 "metadata": {
  "kernelspec": {
   "display_name": "Python 3 (ipykernel)",
   "language": "python",
   "name": "python3"
  },
  "language_info": {
   "codemirror_mode": {
    "name": "ipython",
    "version": 3
   },
   "file_extension": ".py",
   "mimetype": "text/x-python",
   "name": "python",
   "nbconvert_exporter": "python",
   "pygments_lexer": "ipython3",
   "version": "3.9.7"
  }
 },
 "nbformat": 4,
 "nbformat_minor": 5
}
